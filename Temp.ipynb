{
 "cells": [
  {
   "cell_type": "code",
   "execution_count": 13,
   "metadata": {
    "collapsed": true
   },
   "outputs": [],
   "source": [
    "import pandas as pd\n",
    "import numpy as np\n",
    "\n",
    "def is_cloudy():\n",
    "    \"\"\"cloudy is an independent random variable.\n",
    "    \"\"\"\n",
    "    return (np.random.random() < .5)\n",
    "    \n",
    "def is_sprinkler(cloudy):\n",
    "    \"\"\"sprinkler is dependent on cloudiness. if it is \n",
    "    cloudy, sprinkler has a 10% of being on. otherwise, \n",
    "    if it is sunny, then the sprinkler has a 50% of being \n",
    "    on.\n",
    "    \"\"\"\n",
    "    if cloudy:\n",
    "        return (np.random.random() < .1)\n",
    "    else:\n",
    "        return (np.random.random() < .5)\n",
    "\n",
    "def is_rain(cloudy):\n",
    "    if cloudy:\n",
    "        return (np.random.random() < .8)\n",
    "    else:\n",
    "        return (np.random.random() < .2)\n",
    "    \n",
    "def is_wet(sprinkler, rain):\n",
    "    if ((sprinkler == True) & (rain == True)):\n",
    "        return (np.random.random() < .99)\n",
    "    elif ((sprinkler == False) & (rain == True)):\n",
    "        return (np.random.random() < .9)\n",
    "    elif ((sprinkler == True) & (rain == False)):\n",
    "        return (np.random.random() < .9)\n",
    "    else:\n",
    "        return False"
   ]
  },
  {
   "cell_type": "code",
   "execution_count": 14,
   "metadata": {
    "collapsed": true
   },
   "outputs": [],
   "source": [
    "# generate toy dataset via sampling (we couldve done this by multiplying probabilities)\n",
    "\n",
    "n_samples = 10000\n",
    "\n",
    "ls_c = []\n",
    "ls_s = []\n",
    "ls_r = []\n",
    "ls_w = []\n",
    "\n",
    "for _ in range(n_samples):\n",
    "    c = is_cloudy()\n",
    "    s = is_sprinkler(c)\n",
    "    r = is_rain(c)\n",
    "    w = is_wet(s, r)\n",
    "    \n",
    "    ls_c.append(c)\n",
    "    ls_s.append(s)\n",
    "    ls_r.append(r)\n",
    "    ls_w.append(w)\n",
    "\n",
    "collection = {\"cloudy\": ls_c, \"sprinkler\": ls_s, \"rain\": ls_r, \"wet\": ls_w}"
   ]
  },
  {
   "cell_type": "code",
   "execution_count": 15,
   "metadata": {},
   "outputs": [
    {
     "data": {
      "text/html": [
       "<div>\n",
       "<style>\n",
       "    .dataframe thead tr:only-child th {\n",
       "        text-align: right;\n",
       "    }\n",
       "\n",
       "    .dataframe thead th {\n",
       "        text-align: left;\n",
       "    }\n",
       "\n",
       "    .dataframe tbody tr th {\n",
       "        vertical-align: top;\n",
       "    }\n",
       "</style>\n",
       "<table border=\"1\" class=\"dataframe\">\n",
       "  <thead>\n",
       "    <tr style=\"text-align: right;\">\n",
       "      <th></th>\n",
       "      <th>cloudy</th>\n",
       "      <th>rain</th>\n",
       "      <th>sprinkler</th>\n",
       "      <th>wet</th>\n",
       "    </tr>\n",
       "  </thead>\n",
       "  <tbody>\n",
       "    <tr>\n",
       "      <th>0</th>\n",
       "      <td>True</td>\n",
       "      <td>True</td>\n",
       "      <td>False</td>\n",
       "      <td>True</td>\n",
       "    </tr>\n",
       "    <tr>\n",
       "      <th>1</th>\n",
       "      <td>True</td>\n",
       "      <td>True</td>\n",
       "      <td>False</td>\n",
       "      <td>False</td>\n",
       "    </tr>\n",
       "    <tr>\n",
       "      <th>2</th>\n",
       "      <td>False</td>\n",
       "      <td>False</td>\n",
       "      <td>False</td>\n",
       "      <td>False</td>\n",
       "    </tr>\n",
       "    <tr>\n",
       "      <th>3</th>\n",
       "      <td>False</td>\n",
       "      <td>False</td>\n",
       "      <td>True</td>\n",
       "      <td>True</td>\n",
       "    </tr>\n",
       "    <tr>\n",
       "      <th>4</th>\n",
       "      <td>False</td>\n",
       "      <td>True</td>\n",
       "      <td>True</td>\n",
       "      <td>True</td>\n",
       "    </tr>\n",
       "  </tbody>\n",
       "</table>\n",
       "</div>"
      ],
      "text/plain": [
       "   cloudy   rain  sprinkler    wet\n",
       "0    True   True      False   True\n",
       "1    True   True      False  False\n",
       "2   False  False      False  False\n",
       "3   False  False       True   True\n",
       "4   False   True       True   True"
      ]
     },
     "execution_count": 15,
     "metadata": {},
     "output_type": "execute_result"
    }
   ],
   "source": [
    "# joint observations\n",
    "df = pd.DataFrame(collection)\n",
    "df.head()"
   ]
  },
  {
   "cell_type": "code",
   "execution_count": 19,
   "metadata": {
    "collapsed": true
   },
   "outputs": [],
   "source": [
    "parent = []\n",
    "child = 'cloudy'"
   ]
  },
  {
   "cell_type": "code",
   "execution_count": 20,
   "metadata": {},
   "outputs": [],
   "source": [
    "ps = [df[x] for x in parent]\n",
    "cs = df[child]"
   ]
  },
  {
   "cell_type": "code",
   "execution_count": 21,
   "metadata": {},
   "outputs": [
    {
     "data": {
      "text/html": [
       "<div>\n",
       "<style>\n",
       "    .dataframe thead tr:only-child th {\n",
       "        text-align: right;\n",
       "    }\n",
       "\n",
       "    .dataframe thead th {\n",
       "        text-align: left;\n",
       "    }\n",
       "\n",
       "    .dataframe tbody tr th {\n",
       "        vertical-align: top;\n",
       "    }\n",
       "</style>\n",
       "<table border=\"1\" class=\"dataframe\">\n",
       "  <thead>\n",
       "    <tr style=\"text-align: right;\">\n",
       "      <th>cloudy</th>\n",
       "      <th>index</th>\n",
       "      <th>False</th>\n",
       "      <th>True</th>\n",
       "    </tr>\n",
       "  </thead>\n",
       "  <tbody>\n",
       "    <tr>\n",
       "      <th>0</th>\n",
       "      <td>__dummy__</td>\n",
       "      <td>0.4985</td>\n",
       "      <td>0.5015</td>\n",
       "    </tr>\n",
       "  </tbody>\n",
       "</table>\n",
       "</div>"
      ],
      "text/plain": [
       "cloudy      index   False    True\n",
       "0       __dummy__  0.4985  0.5015"
      ]
     },
     "execution_count": 21,
     "metadata": {},
     "output_type": "execute_result"
    }
   ],
   "source": [
    "# https://stackoverflow.com/questions/53510319/python-pandas-merging-with-more-than-one-level-overlap-on-a-multi-index-is-not\n",
    "pd.crosstab(ps, cs, normalize = 'index').reset_index()"
   ]
  },
  {
   "cell_type": "code",
   "execution_count": null,
   "metadata": {
    "collapsed": true
   },
   "outputs": [],
   "source": []
  }
 ],
 "metadata": {
  "kernelspec": {
   "display_name": "Python 3",
   "language": "python",
   "name": "python3"
  },
  "language_info": {
   "codemirror_mode": {
    "name": "ipython",
    "version": 3
   },
   "file_extension": ".py",
   "mimetype": "text/x-python",
   "name": "python",
   "nbconvert_exporter": "python",
   "pygments_lexer": "ipython3",
   "version": "3.6.8"
  }
 },
 "nbformat": 4,
 "nbformat_minor": 2
}
