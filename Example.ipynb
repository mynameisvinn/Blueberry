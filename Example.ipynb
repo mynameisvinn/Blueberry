{
 "cells": [
  {
   "cell_type": "code",
   "execution_count": null,
   "metadata": {
    "collapsed": true
   },
   "outputs": [],
   "source": [
    "import pandas as pd\n",
    "from basilisk import Node, BN\n",
    "\n",
    "%matplotlib inline\n",
    "from IPython.core.interactiveshell import InteractiveShell\n",
    "InteractiveShell.ast_node_interactivity = \"all\""
   ]
  },
  {
   "cell_type": "code",
   "execution_count": null,
   "metadata": {},
   "outputs": [],
   "source": [
    "B = Node(\"B\")\n",
    "A = Node(\"A\", [B])\n",
    "C = Node(\"C\", [A])\n",
    "T = Node(\"T\")\n",
    "R = Node(\"R\", [C, T])\n",
    "S = Node(\"S\", [C])\n",
    "W = Node(\"W\", [R, S])\n",
    "\n",
    "ls_nodes = [B, A, C, T, R, W, S]\n",
    "\n",
    "model = BN(ls_nodes)\n",
    "model.show(node_size=600, node_color='gray')"
   ]
  },
  {
   "cell_type": "code",
   "execution_count": null,
   "metadata": {},
   "outputs": [],
   "source": [
    "p = {'True': [.1]}\n",
    "B.specify_cpt(p)\n",
    "\n",
    "p = {'B':[True, False], 'True': [.1, .44]}\n",
    "A.specify_cpt(p)\n",
    "\n",
    "p = {'A': [True, False], 'True':[.21, .43]}\n",
    "C.specify_cpt(p)\n",
    "\n",
    "p = {'True': [.29]}\n",
    "T.specify_cpt(p)\n",
    "\n",
    "p = {'C': [True, True, False, False], \n",
    "     'T': [True, False, True, False],\n",
    "     'True':[.2, .4, .1, .8]}\n",
    "R.specify_cpt(p)\n",
    "\n",
    "p = {'R': [True, True, False, False], \n",
    "     'S': [True, False, True, False],\n",
    "     'True':[.21, .43, .1, .8]}\n",
    "W.specify_cpt(p)\n",
    "     \n",
    "p = {'C':[True, False], 'True': [.1, .44]}\n",
    "S.specify_cpt(p)"
   ]
  },
  {
   "cell_type": "code",
   "execution_count": null,
   "metadata": {},
   "outputs": [],
   "source": [
    "# generate batch samples\n",
    "leaf_node = W\n",
    "obs = model.generate_samples(leaf_node, n_samples=1000)\n",
    "obs.head()"
   ]
  },
  {
   "cell_type": "code",
   "execution_count": null,
   "metadata": {
    "collapsed": true
   },
   "outputs": [],
   "source": [
    "obs.to_csv(\"data/obs_v3.csv\", index=None)"
   ]
  },
  {
   "cell_type": "code",
   "execution_count": null,
   "metadata": {},
   "outputs": [],
   "source": [
    "c = pd.read_csv(\"data/obs_v3.csv\")\n",
    "c.head()"
   ]
  },
  {
   "cell_type": "code",
   "execution_count": null,
   "metadata": {
    "collapsed": true
   },
   "outputs": [],
   "source": [
    "# corresponding joint probability should be similar to computed joint probability\n",
    "joint_obs = pd.crosstab(b[\"cloudy\"], b[\"rain\"], normalize = 'index').reset_index()\n",
    "joint_obs"
   ]
  },
  {
   "cell_type": "code",
   "execution_count": null,
   "metadata": {
    "collapsed": true
   },
   "outputs": [],
   "source": []
  }
 ],
 "metadata": {
  "kernelspec": {
   "display_name": "Python 3",
   "language": "python",
   "name": "python3"
  },
  "language_info": {
   "codemirror_mode": {
    "name": "ipython",
    "version": 3
   },
   "file_extension": ".py",
   "mimetype": "text/x-python",
   "name": "python",
   "nbconvert_exporter": "python",
   "pygments_lexer": "ipython3",
   "version": "3.6.8"
  }
 },
 "nbformat": 4,
 "nbformat_minor": 2
}
