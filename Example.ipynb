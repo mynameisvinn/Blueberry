{
 "cells": [
  {
   "cell_type": "code",
   "execution_count": 2,
   "metadata": {},
   "outputs": [],
   "source": [
    "import pandas as pd\n",
    "from basilisk import Node, BN\n",
    "\n",
    "%matplotlib inline\n",
    "from IPython.core.interactiveshell import InteractiveShell\n",
    "InteractiveShell.ast_node_interactivity = \"all\""
   ]
  },
  {
   "cell_type": "code",
   "execution_count": 3,
   "metadata": {},
   "outputs": [
    {
     "data": {
      "image/png": "[encoded data removed]",
      "text/plain": [
       "<Figure size 432x288 with 1 Axes>"
      ]
     },
     "metadata": {
      "needs_background": "light"
     },
     "output_type": "display_data"
    }
   ],
   "source": [
    "B = Node(\"B\")\n",
    "A = Node(\"A\", [B])\n",
    "C = Node(\"C\", [A])\n",
    "T = Node(\"T\")\n",
    "R = Node(\"R\", [C, T])\n",
    "S = Node(\"S\", [C])\n",
    "W = Node(\"W\", [R, S])\n",
    "\n",
    "ls_nodes = [B, A, C, T, R, W, S]\n",
    "\n",
    "model = BN(ls_nodes)\n",
    "model.show(node_size=600, node_color='gray')"
   ]
  },
  {
   "cell_type": "code",
   "execution_count": 4,
   "metadata": {},
   "outputs": [
    {
     "data": {
      "text/plain": [
       "True"
      ]
     },
     "execution_count": 4,
     "metadata": {},
     "output_type": "execute_result"
    },
    {
     "data": {
      "text/plain": [
       "True"
      ]
     },
     "execution_count": 4,
     "metadata": {},
     "output_type": "execute_result"
    },
    {
     "data": {
      "text/plain": [
       "True"
      ]
     },
     "execution_count": 4,
     "metadata": {},
     "output_type": "execute_result"
    },
    {
     "data": {
      "text/plain": [
       "True"
      ]
     },
     "execution_count": 4,
     "metadata": {},
     "output_type": "execute_result"
    },
    {
     "data": {
      "text/plain": [
       "True"
      ]
     },
     "execution_count": 4,
     "metadata": {},
     "output_type": "execute_result"
    },
    {
     "data": {
      "text/plain": [
       "True"
      ]
     },
     "execution_count": 4,
     "metadata": {},
     "output_type": "execute_result"
    },
    {
     "data": {
      "text/plain": [
       "True"
      ]
     },
     "execution_count": 4,
     "metadata": {},
     "output_type": "execute_result"
    }
   ],
   "source": [
    "p = {'True': [.1]}\n",
    "B.specify_cpt(p)\n",
    "\n",
    "p = {'B':[True, False], 'True': [.1, .44]}\n",
    "A.specify_cpt(p)\n",
    "\n",
    "p = {'A': [True, False], 'True':[.21, .43]}\n",
    "C.specify_cpt(p)\n",
    "\n",
    "p = {'True': [.29]}\n",
    "T.specify_cpt(p)\n",
    "\n",
    "p = {'C': [True, True, False, False], \n",
    "     'T': [True, False, True, False],\n",
    "     'True':[.2, .4, .1, .8]}\n",
    "R.specify_cpt(p)\n",
    "\n",
    "p = {'R': [True, True, False, False], \n",
    "     'S': [True, False, True, False],\n",
    "     'True':[.21, .43, .1, .8]}\n",
    "W.specify_cpt(p)\n",
    "     \n",
    "p = {'C':[True, False], 'True': [.1, .44]}\n",
    "S.specify_cpt(p)"
   ]
  },
  {
   "cell_type": "code",
   "execution_count": 5,
   "metadata": {},
   "outputs": [
    {
     "name": "stderr",
     "output_type": "stream",
     "text": [
      "100%|██████████| 1000/1000 [00:18<00:00, 53.80it/s]\n"
     ]
    },
    {
     "data": {
      "text/html": [
       "<div>\n",
       "<style scoped>\n",
       "    .dataframe tbody tr th:only-of-type {\n",
       "        vertical-align: middle;\n",
       "    }\n",
       "\n",
       "    .dataframe tbody tr th {\n",
       "        vertical-align: top;\n",
       "    }\n",
       "\n",
       "    .dataframe thead th {\n",
       "        text-align: right;\n",
       "    }\n",
       "</style>\n",
       "<table border=\"1\" class=\"dataframe\">\n",
       "  <thead>\n",
       "    <tr style=\"text-align: right;\">\n",
       "      <th></th>\n",
       "      <th>B</th>\n",
       "      <th>A</th>\n",
       "      <th>T</th>\n",
       "      <th>C</th>\n",
       "      <th>S</th>\n",
       "      <th>R</th>\n",
       "      <th>W</th>\n",
       "    </tr>\n",
       "  </thead>\n",
       "  <tbody>\n",
       "    <tr>\n",
       "      <th>0</th>\n",
       "      <td>False</td>\n",
       "      <td>False</td>\n",
       "      <td>False</td>\n",
       "      <td>False</td>\n",
       "      <td>False</td>\n",
       "      <td>True</td>\n",
       "      <td>False</td>\n",
       "    </tr>\n",
       "    <tr>\n",
       "      <th>1</th>\n",
       "      <td>False</td>\n",
       "      <td>True</td>\n",
       "      <td>False</td>\n",
       "      <td>True</td>\n",
       "      <td>False</td>\n",
       "      <td>False</td>\n",
       "      <td>True</td>\n",
       "    </tr>\n",
       "    <tr>\n",
       "      <th>2</th>\n",
       "      <td>False</td>\n",
       "      <td>False</td>\n",
       "      <td>False</td>\n",
       "      <td>False</td>\n",
       "      <td>False</td>\n",
       "      <td>False</td>\n",
       "      <td>True</td>\n",
       "    </tr>\n",
       "    <tr>\n",
       "      <th>3</th>\n",
       "      <td>False</td>\n",
       "      <td>False</td>\n",
       "      <td>True</td>\n",
       "      <td>True</td>\n",
       "      <td>False</td>\n",
       "      <td>False</td>\n",
       "      <td>False</td>\n",
       "    </tr>\n",
       "    <tr>\n",
       "      <th>4</th>\n",
       "      <td>False</td>\n",
       "      <td>False</td>\n",
       "      <td>True</td>\n",
       "      <td>True</td>\n",
       "      <td>False</td>\n",
       "      <td>False</td>\n",
       "      <td>True</td>\n",
       "    </tr>\n",
       "  </tbody>\n",
       "</table>\n",
       "</div>"
      ],
      "text/plain": [
       "       B      A      T      C      S      R      W\n",
       "0  False  False  False  False  False   True  False\n",
       "1  False   True  False   True  False  False   True\n",
       "2  False  False  False  False  False  False   True\n",
       "3  False  False   True   True  False  False  False\n",
       "4  False  False   True   True  False  False   True"
      ]
     },
     "execution_count": 5,
     "metadata": {},
     "output_type": "execute_result"
    }
   ],
   "source": [
    "# generate batch samples\n",
    "leaf_node = W\n",
    "obs = model.generate_samples(leaf_node, n_samples=1000)\n",
    "obs.head()"
   ]
  },
  {
   "cell_type": "code",
   "execution_count": 6,
   "metadata": {},
   "outputs": [],
   "source": [
    "obs.to_csv(\"data/obs_v3.csv\", index=None)"
   ]
  },
  {
   "cell_type": "code",
   "execution_count": 7,
   "metadata": {},
   "outputs": [
    {
     "data": {
      "text/html": [
       "<div>\n",
       "<style scoped>\n",
       "    .dataframe tbody tr th:only-of-type {\n",
       "        vertical-align: middle;\n",
       "    }\n",
       "\n",
       "    .dataframe tbody tr th {\n",
       "        vertical-align: top;\n",
       "    }\n",
       "\n",
       "    .dataframe thead th {\n",
       "        text-align: right;\n",
       "    }\n",
       "</style>\n",
       "<table border=\"1\" class=\"dataframe\">\n",
       "  <thead>\n",
       "    <tr style=\"text-align: right;\">\n",
       "      <th></th>\n",
       "      <th>B</th>\n",
       "      <th>A</th>\n",
       "      <th>T</th>\n",
       "      <th>C</th>\n",
       "      <th>S</th>\n",
       "      <th>R</th>\n",
       "      <th>W</th>\n",
       "    </tr>\n",
       "  </thead>\n",
       "  <tbody>\n",
       "    <tr>\n",
       "      <th>0</th>\n",
       "      <td>False</td>\n",
       "      <td>False</td>\n",
       "      <td>False</td>\n",
       "      <td>False</td>\n",
       "      <td>False</td>\n",
       "      <td>True</td>\n",
       "      <td>False</td>\n",
       "    </tr>\n",
       "    <tr>\n",
       "      <th>1</th>\n",
       "      <td>False</td>\n",
       "      <td>True</td>\n",
       "      <td>False</td>\n",
       "      <td>True</td>\n",
       "      <td>False</td>\n",
       "      <td>False</td>\n",
       "      <td>True</td>\n",
       "    </tr>\n",
       "    <tr>\n",
       "      <th>2</th>\n",
       "      <td>False</td>\n",
       "      <td>False</td>\n",
       "      <td>False</td>\n",
       "      <td>False</td>\n",
       "      <td>False</td>\n",
       "      <td>False</td>\n",
       "      <td>True</td>\n",
       "    </tr>\n",
       "    <tr>\n",
       "      <th>3</th>\n",
       "      <td>False</td>\n",
       "      <td>False</td>\n",
       "      <td>True</td>\n",
       "      <td>True</td>\n",
       "      <td>False</td>\n",
       "      <td>False</td>\n",
       "      <td>False</td>\n",
       "    </tr>\n",
       "    <tr>\n",
       "      <th>4</th>\n",
       "      <td>False</td>\n",
       "      <td>False</td>\n",
       "      <td>True</td>\n",
       "      <td>True</td>\n",
       "      <td>False</td>\n",
       "      <td>False</td>\n",
       "      <td>True</td>\n",
       "    </tr>\n",
       "  </tbody>\n",
       "</table>\n",
       "</div>"
      ],
      "text/plain": [
       "       B      A      T      C      S      R      W\n",
       "0  False  False  False  False  False   True  False\n",
       "1  False   True  False   True  False  False   True\n",
       "2  False  False  False  False  False  False   True\n",
       "3  False  False   True   True  False  False  False\n",
       "4  False  False   True   True  False  False   True"
      ]
     },
     "execution_count": 7,
     "metadata": {},
     "output_type": "execute_result"
    }
   ],
   "source": [
    "c = pd.read_csv(\"data/obs_v3.csv\")\n",
    "c.head()"
   ]
  },
  {
   "cell_type": "code",
   "execution_count": 10,
   "metadata": {},
   "outputs": [],
   "source": [
    "# corresponding joint probability should be similar to computed joint probability\n",
    "# joint_obs = pd.crosstab(b[\"cloudy\"], b[\"rain\"], normalize = 'index').reset_index()\n",
    "# joint_obs"
   ]
  },
  {
   "cell_type": "markdown",
   "metadata": {
    "collapsed": true
   },
   "source": [
    "## PC Fresh"
   ]
  },
  {
   "cell_type": "code",
   "execution_count": 11,
   "metadata": {},
   "outputs": [],
   "source": [
    "import copy\n",
    "import itertools\n",
    "import numpy as np\n",
    "import pandas as pd\n",
    "from scipy import stats"
   ]
  },
  {
   "cell_type": "code",
   "execution_count": 12,
   "metadata": {},
   "outputs": [],
   "source": [
    "def mutual_info(data, bins):\n",
    "    \"\"\"\n",
    "    inputs:\n",
    "        data - first two columns are dependent variables and remaining are conditioned on\n",
    "        bins - # of bins for each variable - determines resolution for pdf\n",
    "        \n",
    "    outputs:\n",
    "        mutual or conditional mutual information depending on # columns\n",
    "    \"\"\"\n",
    "    eps = 1e-10\n",
    "\n",
    "    hist, edges = np.histogramdd(data, bins=bins)\n",
    "\n",
    "    Pxyz = hist / data.shape[0] #P(X,Y,{Z})\n",
    "    Pz = np.sum(Pxyz, axis = (0,1)) # P({Z})\n",
    "    Pxz = np.sum(Pxyz, axis = 1) # P(X,{Z})\n",
    "    Pyz = np.sum(Pxyz, axis = 0) # P(Y,{Z})\n",
    "    \n",
    "    dimtile = list(Pxyz.shape)\n",
    "    dimtile[-len(Pz.shape):] = [1]*len(Pz.shape) if len(Pz.shape) > 0 else dimtile\n",
    "    Pz = np.tile(Pz, tuple(dimtile))\n",
    "    dimtile[-len(Pxz.shape):] = [1]*len(Pxz.shape)\n",
    "    Pxz = np.swapaxes(np.tile(Pxz, tuple(dimtile)), 0, 1)\n",
    "    Pyz = np.tile(Pyz, tuple(dimtile))\n",
    "    \n",
    "    lognum = Pxyz*Pz + eps\n",
    "    logden = Pxz*Pyz + eps\n",
    "\n",
    "    cmi = np.sum(Pxyz * np.log(lognum / logden))\n",
    "    \n",
    "    chi2 = 2*len(data)*cmi\n",
    "    df = (bins[0] - 1)*(bins[1] - 1)*np.prod(bins[2:])\n",
    "    p_val = 2*stats.chi2.pdf(chi2, df)\n",
    "    \n",
    "    return cmi, p_val"
   ]
  },
  {
   "cell_type": "code",
   "execution_count": 13,
   "metadata": {},
   "outputs": [],
   "source": [
    "def dseperation(depvars, indvars, alpha):\n",
    "    \"\"\"\n",
    "    d-separation test using mutual information\n",
    "    inputs:\n",
    "        depvars - data for two dependent variables as 2-column dataframe\n",
    "        indvars - data for N independent variables as N-column dataframe\n",
    "        alpha - pvalue threshold for dependence test\n",
    "\n",
    "    output:\n",
    "        boolean value dependent on alpha threshold\n",
    "\n",
    "    issues:\n",
    "        can only handle integer valued data\n",
    "    \"\"\"\n",
    "    depbins = depvars.apply(pd.Series.nunique).values\n",
    "    indbins = indvars.apply(pd.Series.nunique).values\n",
    "    depdata = depvars.values.astype(int)\n",
    "    inddata = indvars.values.astype(int)\n",
    "    data = np.concatenate((depdata, inddata), axis = 1)\n",
    "    bins = np.concatenate((depbins, indbins))\n",
    "\n",
    "    assert len(depbins) == 2\n",
    "\n",
    "    mi, p_val = mutual_info(data, bins)\n",
    "\n",
    "    print(\"mi: \", np.around(mi, 4), \"pval: \", p_val, \\\n",
    "          depvars.columns.values, indvars.columns.values)\n",
    "\n",
    "    if p_val > alpha:\n",
    "        return True\n",
    "    else:\n",
    "        return False"
   ]
  },
  {
   "cell_type": "code",
   "execution_count": 14,
   "metadata": {},
   "outputs": [],
   "source": [
    "def pc_fresh(data, alpha):\n",
    "    \"\"\"\n",
    "    path condition algorithm (spirtes 2nd ed 5.4.2)\n",
    "    \n",
    "    pseudo-code:\n",
    "    \n",
    "    1) initialize complete undirected \"graph\"\n",
    "    2) perform d-sep test \n",
    "    \n",
    "        n = 0\n",
    "        repeat:\n",
    "            for each x in graph:\n",
    "                for each y in adj(x) s.t. |adj(x) \\ y| >= n:\n",
    "                    for each subset z in adj(x) \\ y s.t. |z| = n:\n",
    "                        if x and y are d-separated given z:\n",
    "                            remove edge x-y from graph\n",
    "                            record z in sepset(x,y) and sepset(y,x)\n",
    "            n = n + 1\n",
    "        until: |adj(x) \\ y| < n for every pair x,y\n",
    "        \n",
    "    3) find collider nodes\n",
    "    \n",
    "        for each triplet x, y, z in graph:\n",
    "            if x,y and y,z are adjacent but x,z is not adjacent:\n",
    "                iff y is not in sepset(x,z):\n",
    "                    orient x - y - z as x -> y <- z\n",
    "    \n",
    "    4) orient remaining edges\n",
    "    \n",
    "        repeat:\n",
    "            if x -> y:\n",
    "                for all z s.t. z is adjacent to y and z is not adjacent to x:\n",
    "                    if there is no arrowhead at y:\n",
    "                        orient y - z as y -> z\n",
    "            if a directed path from x to y exists:\n",
    "                if an edge exists between x and y:\n",
    "                    orient x - y as x -> y\n",
    "        until: no more edges to orient\n",
    "    \"\"\"\n",
    "    \n",
    "    labels = data.apply(pd.Series.nunique).index.values\n",
    "    graph = dict([(x, [y for y in labels if x!=y]) for x in labels])\n",
    "    sepset = dict([(x, []) for x in labels])\n",
    "    print(\"initial graph: \", graph)\n",
    "    n = 0\n",
    "    stop = False\n",
    "    while not stop:\n",
    "        for x in labels: #loop through vertices x\n",
    "            if len(graph[x]) - 1 >= n: #if |adj(x)| - 1 >= n\n",
    "                for y in graph[x]: #loop through adj(x)\n",
    "                    adj = copy.deepcopy(graph[x])\n",
    "                    adj.remove(y) #define adj(x) \\ y\n",
    "                    for z in itertools.combinations(adj, n): #loop through adj(x) \\ y\n",
    "                        if dseperation(data[[x, y]], data[list(z)], alpha):\n",
    "                            print(\"gottem: \", y, graph[x])\n",
    "                            if y in graph[x]: #remove x-y edge\n",
    "                                graph[x].remove(y)\n",
    "                                graph[y].remove(x)\n",
    "                            sepset[x] = {y:z} #add z to sepset(x,y)\n",
    "                            sepset[y] = {x:z} #add z to sepset(y,x)\n",
    "                    del adj #probably unecessary\n",
    "        n += 1\n",
    "        \n",
    "        for x in labels:\n",
    "            if len(graph[x]) > n - 1:\n",
    "                stop = False\n",
    "                break\n",
    "            else:\n",
    "                stop = True\n",
    "    print(\"final undirected: \", graph)\n",
    "\n",
    "    for x in graph.keys(): #orient edges\n",
    "        for y in graph[x]:\n",
    "            for z in graph[y]:\n",
    "                if z != x and x not in graph[z] and z not in graph[x]:\n",
    "                    if z in sepset[x] and y not in sepset[x][z]:\n",
    "                        if y in graph[x]:\n",
    "                            graph[y].remove(x)\n",
    "                            \n",
    "                        if y in graph[z]:\n",
    "                            graph[y].remove(z)\n",
    "                            \n",
    "    nodelist = [Node(x) for x in graph.keys()]\n",
    "    \n",
    "    print(\"final directed: \", graph)\n",
    "    \n",
    "    for child in nodelist:\n",
    "        parents = []\n",
    "\n",
    "        for parent in nodelist:\n",
    "            if child.name in graph.get(parent.name):\n",
    "                parents.append(parent )\n",
    "        child.ls_parents = parents\n",
    "        \n",
    "    return nodelist"
   ]
  },
  {
   "cell_type": "code",
   "execution_count": 15,
   "metadata": {},
   "outputs": [
    {
     "name": "stdout",
     "output_type": "stream",
     "text": [
      "initial graph:  {'cloudy': ['rain', 'sprinkler', 'wet'], 'rain': ['cloudy', 'sprinkler', 'wet'], 'sprinkler': ['cloudy', 'rain', 'wet'], 'wet': ['cloudy', 'rain', 'sprinkler']}\n",
      "mi:  0.18 pval:  2.747850746448526e-80 ['cloudy' 'rain'] []\n",
      "mi:  0.0988 pval:  6.943933513919783e-45 ['cloudy' 'sprinkler'] []\n",
      "mi:  0.0192 pval:  5.84545098042687e-10 ['cloudy' 'wet'] []\n",
      "mi:  0.18 pval:  2.747850746448526e-80 ['rain' 'cloudy'] []\n",
      "mi:  0.0348 pval:  7.033812140570838e-17 ['rain' 'sprinkler'] []\n",
      "mi:  0.1781 pval:  1.819678743455108e-79 ['rain' 'wet'] []\n",
      "mi:  0.0988 pval:  6.943933513919783e-45 ['sprinkler' 'cloudy'] []\n",
      "mi:  0.0348 pval:  7.033812140570838e-17 ['sprinkler' 'rain'] []\n",
      "mi:  0.0767 pval:  3.1808570118053143e-35 ['sprinkler' 'wet'] []\n",
      "mi:  0.0192 pval:  5.84545098042687e-10 ['wet' 'cloudy'] []\n",
      "mi:  0.1781 pval:  1.8196787434553667e-79 ['wet' 'rain'] []\n",
      "mi:  0.0767 pval:  3.1808570118053143e-35 ['wet' 'sprinkler'] []\n",
      "mi:  0.1455 pval:  6.269252094322976e-64 ['cloudy' 'rain'] ['sprinkler']\n",
      "mi:  0.1852 pval:  3.7905395624600947e-81 ['cloudy' 'rain'] ['wet']\n",
      "mi:  0.0643 pval:  1.173703964271977e-28 ['cloudy' 'sprinkler'] ['rain']\n",
      "mi:  0.1693 pval:  3.0312733801307896e-74 ['cloudy' 'sprinkler'] ['wet']\n",
      "mi:  0.0244 pval:  2.6340362212902817e-11 ['cloudy' 'wet'] ['rain']\n",
      "mi:  0.0897 pval:  1.1251309175458407e-39 ['cloudy' 'wet'] ['sprinkler']\n",
      "mi:  0.1455 pval:  6.269252094322976e-64 ['rain' 'cloudy'] ['sprinkler']\n",
      "mi:  0.1852 pval:  3.7905395624600947e-81 ['rain' 'cloudy'] ['wet']\n",
      "mi:  0.0003 pval:  0.706020072510996 ['rain' 'sprinkler'] ['cloudy']\n",
      "gottem:  sprinkler ['cloudy', 'sprinkler', 'wet']\n",
      "mi:  0.2115 pval:  1.4403148718957325e-92 ['rain' 'sprinkler'] ['wet']\n",
      "mi:  0.1693 pval:  3.0312733801307032e-74 ['sprinkler' 'cloudy'] ['wet']\n",
      "mi:  0.1472 pval:  1.2233106184624039e-64 ['sprinkler' 'wet'] ['cloudy']\n",
      "mi:  0.0244 pval:  2.6340362212902817e-11 ['wet' 'cloudy'] ['rain']\n",
      "mi:  0.0897 pval:  1.1251309175458407e-39 ['wet' 'cloudy'] ['sprinkler']\n",
      "mi:  0.1833 pval:  2.496989812424042e-80 ['wet' 'rain'] ['cloudy']\n",
      "mi:  0.3548 pval:  8.425035827860578e-155 ['wet' 'rain'] ['sprinkler']\n",
      "mi:  0.1472 pval:  1.2233106184623691e-64 ['wet' 'sprinkler'] ['cloudy']\n",
      "mi:  0.2533 pval:  9.662969093153768e-111 ['wet' 'sprinkler'] ['rain']\n",
      "mi:  0.0573 pval:  7.118842675473276e-24 ['cloudy' 'rain'] ['sprinkler' 'wet']\n",
      "mi:  0.0415 pval:  4.114891538022071e-17 ['cloudy' 'sprinkler'] ['rain' 'wet']\n",
      "mi:  0.0015 pval:  0.3345148104626348 ['cloudy' 'wet'] ['rain' 'sprinkler']\n",
      "gottem:  wet ['rain', 'sprinkler', 'wet']\n",
      "final undirected:  {'cloudy': ['rain', 'sprinkler'], 'rain': ['cloudy', 'wet'], 'sprinkler': ['cloudy', 'wet'], 'wet': ['rain', 'sprinkler']}\n",
      "final directed:  {'cloudy': ['rain', 'sprinkler'], 'rain': ['cloudy', 'wet'], 'sprinkler': ['cloudy', 'wet'], 'wet': []}\n"
     ]
    },
    {
     "data": {
      "image/png": "[encoded data removed]",
      "text/plain": [
       "<Figure size 432x288 with 1 Axes>"
      ]
     },
     "metadata": {
      "needs_background": "light"
     },
     "output_type": "display_data"
    }
   ],
   "source": [
    "obs1 = pd.read_csv(\"data/observations.csv\").drop('Unnamed: 0', axis = 1)\n",
    "\n",
    "BN(pc_fresh(obs1, 1e-1)).show(node_size=500, node_color='gray')"
   ]
  },
  {
   "cell_type": "code",
   "execution_count": 16,
   "metadata": {},
   "outputs": [
    {
     "name": "stdout",
     "output_type": "stream",
     "text": [
      "initial graph:  {'rain': ['sprinkler', 'wet'], 'sprinkler': ['rain', 'wet'], 'wet': ['rain', 'sprinkler']}\n",
      "mi:  0.0348 pval:  7.033812140570838e-17 ['rain' 'sprinkler'] []\n",
      "gottem:  sprinkler ['sprinkler', 'wet']\n",
      "mi:  0.0767 pval:  3.1808570118053143e-35 ['sprinkler' 'wet'] []\n",
      "mi:  0.1781 pval:  1.8196787434553667e-79 ['wet' 'rain'] []\n",
      "mi:  0.0767 pval:  3.1808570118053143e-35 ['wet' 'sprinkler'] []\n",
      "mi:  0.3548 pval:  8.425035827860578e-155 ['wet' 'rain'] ['sprinkler']\n",
      "mi:  0.2533 pval:  9.662969093153768e-111 ['wet' 'sprinkler'] ['rain']\n",
      "final undirected:  {'rain': ['wet'], 'sprinkler': ['wet'], 'wet': ['rain', 'sprinkler']}\n",
      "final directed:  {'rain': ['wet'], 'sprinkler': ['wet'], 'wet': []}\n"
     ]
    },
    {
     "data": {
      "image/png": "[encoded data removed]",
      "text/plain": [
       "<Figure size 432x288 with 1 Axes>"
      ]
     },
     "metadata": {
      "needs_background": "light"
     },
     "output_type": "display_data"
    }
   ],
   "source": [
    "BN(pc_fresh(obs1.drop('cloudy', axis = 1), 1e-17)).show(node_size=500, node_color='gray')"
   ]
  },
  {
   "cell_type": "code",
   "execution_count": 17,
   "metadata": {},
   "outputs": [
    {
     "name": "stdout",
     "output_type": "stream",
     "text": [
      "initial graph:  {'cloudy': ['sprinkler', 'wet'], 'sprinkler': ['cloudy', 'wet'], 'wet': ['cloudy', 'sprinkler']}\n",
      "mi:  0.0988 pval:  6.943933513919783e-45 ['cloudy' 'sprinkler'] []\n",
      "mi:  0.0192 pval:  5.84545098042687e-10 ['cloudy' 'wet'] []\n",
      "gottem:  wet ['sprinkler', 'wet']\n",
      "mi:  0.0988 pval:  6.943933513919783e-45 ['sprinkler' 'cloudy'] []\n",
      "mi:  0.0767 pval:  3.1808570118053143e-35 ['sprinkler' 'wet'] []\n",
      "mi:  0.0767 pval:  3.1808570118053143e-35 ['wet' 'sprinkler'] []\n",
      "mi:  0.1693 pval:  3.0312733801307032e-74 ['sprinkler' 'cloudy'] ['wet']\n",
      "mi:  0.1472 pval:  1.2233106184624039e-64 ['sprinkler' 'wet'] ['cloudy']\n",
      "final undirected:  {'cloudy': ['sprinkler'], 'sprinkler': ['cloudy', 'wet'], 'wet': ['sprinkler']}\n",
      "final directed:  {'cloudy': ['sprinkler'], 'sprinkler': [], 'wet': ['sprinkler']}\n"
     ]
    },
    {
     "data": {
      "image/png": "[encoded data removed]",
      "text/plain": [
       "<Figure size 432x288 with 1 Axes>"
      ]
     },
     "metadata": {
      "needs_background": "light"
     },
     "output_type": "display_data"
    }
   ],
   "source": [
    "BN(pc_fresh(obs1.drop('rain', axis = 1), 1e-10)).show(node_size=500, node_color='gray')"
   ]
  },
  {
   "cell_type": "code",
   "execution_count": 18,
   "metadata": {},
   "outputs": [
    {
     "name": "stdout",
     "output_type": "stream",
     "text": [
      "initial graph:  {'cloudy': ['rain', 'wet'], 'rain': ['cloudy', 'wet'], 'wet': ['cloudy', 'rain']}\n",
      "mi:  0.18 pval:  2.747850746448526e-80 ['cloudy' 'rain'] []\n",
      "mi:  0.0192 pval:  5.84545098042687e-10 ['cloudy' 'wet'] []\n",
      "gottem:  wet ['rain', 'wet']\n",
      "mi:  0.18 pval:  2.747850746448526e-80 ['rain' 'cloudy'] []\n",
      "mi:  0.1781 pval:  1.819678743455108e-79 ['rain' 'wet'] []\n",
      "mi:  0.1781 pval:  1.8196787434553667e-79 ['wet' 'rain'] []\n",
      "mi:  0.1852 pval:  3.7905395624600947e-81 ['rain' 'cloudy'] ['wet']\n",
      "mi:  0.1833 pval:  2.496989812424042e-80 ['rain' 'wet'] ['cloudy']\n",
      "final undirected:  {'cloudy': ['rain'], 'rain': ['cloudy', 'wet'], 'wet': ['rain']}\n",
      "final directed:  {'cloudy': ['rain'], 'rain': [], 'wet': ['rain']}\n"
     ]
    },
    {
     "data": {
      "image/png": "[encoded data removed]",
      "text/plain": [
       "<Figure size 432x288 with 1 Axes>"
      ]
     },
     "metadata": {
      "needs_background": "light"
     },
     "output_type": "display_data"
    }
   ],
   "source": [
    "BN(pc_fresh(obs1.drop('sprinkler', axis = 1), 1e-10)).show(node_size=500, node_color='gray')"
   ]
  },
  {
   "cell_type": "code",
   "execution_count": 19,
   "metadata": {},
   "outputs": [
    {
     "name": "stdout",
     "output_type": "stream",
     "text": [
      "initial graph:  {'cloudy': ['rain', 'sprinkler'], 'rain': ['cloudy', 'sprinkler'], 'sprinkler': ['cloudy', 'rain']}\n",
      "mi:  0.18 pval:  2.747850746448526e-80 ['cloudy' 'rain'] []\n",
      "mi:  0.0988 pval:  6.943933513919783e-45 ['cloudy' 'sprinkler'] []\n",
      "mi:  0.18 pval:  2.747850746448526e-80 ['rain' 'cloudy'] []\n",
      "mi:  0.0348 pval:  7.033812140570838e-17 ['rain' 'sprinkler'] []\n",
      "mi:  0.0988 pval:  6.943933513919783e-45 ['sprinkler' 'cloudy'] []\n",
      "mi:  0.0348 pval:  7.033812140570838e-17 ['sprinkler' 'rain'] []\n",
      "mi:  0.1455 pval:  6.269252094322976e-64 ['cloudy' 'rain'] ['sprinkler']\n",
      "mi:  0.0643 pval:  1.173703964271977e-28 ['cloudy' 'sprinkler'] ['rain']\n",
      "mi:  0.1455 pval:  6.269252094322976e-64 ['rain' 'cloudy'] ['sprinkler']\n",
      "mi:  0.0003 pval:  0.706020072510996 ['rain' 'sprinkler'] ['cloudy']\n",
      "gottem:  sprinkler ['cloudy', 'sprinkler']\n",
      "final undirected:  {'cloudy': ['rain', 'sprinkler'], 'rain': ['cloudy'], 'sprinkler': ['cloudy']}\n",
      "final directed:  {'cloudy': ['rain', 'sprinkler'], 'rain': ['cloudy'], 'sprinkler': ['cloudy']}\n"
     ]
    },
    {
     "data": {
      "image/png": "[encoded data removed]",
      "text/plain": [
       "<Figure size 432x288 with 1 Axes>"
      ]
     },
     "metadata": {
      "needs_background": "light"
     },
     "output_type": "display_data"
    }
   ],
   "source": [
    "BN(pc_fresh(obs1.drop('wet', axis = 1), 1e-1)).show(node_size=500, node_color='gray')"
   ]
  },
  {
   "cell_type": "code",
   "execution_count": 20,
   "metadata": {},
   "outputs": [
    {
     "name": "stdout",
     "output_type": "stream",
     "text": [
      "initial graph:  {'rain': ['cloudy', 'sprinkler', 'wet'], 'cloudy': ['rain', 'sprinkler', 'wet'], 'sprinkler': ['rain', 'cloudy', 'wet'], 'wet': ['rain', 'cloudy', 'sprinkler']}\n",
      "mi:  0.0 pval:  5.64945144353613 ['rain' 'cloudy'] []\n",
      "gottem:  cloudy ['cloudy', 'sprinkler', 'wet']\n",
      "mi:  0.001 pval:  0.2128344892471829 ['rain' 'wet'] []\n",
      "gottem:  wet ['sprinkler', 'wet']\n",
      "mi:  0.0134 pval:  2.301400042484311e-07 ['cloudy' 'sprinkler'] []\n",
      "mi:  0.0021 pval:  0.05040132056241973 ['cloudy' 'wet'] []\n",
      "mi:  0.0319 pval:  1.3328442949069318e-15 ['sprinkler' 'rain'] []\n",
      "mi:  0.0134 pval:  2.301400042484311e-07 ['sprinkler' 'cloudy'] []\n",
      "mi:  0.0281 pval:  6.888298656128168e-14 ['sprinkler' 'wet'] []\n",
      "mi:  0.0021 pval:  0.05040132056241973 ['wet' 'cloudy'] []\n",
      "mi:  0.0281 pval:  6.888298656128168e-14 ['wet' 'sprinkler'] []\n",
      "mi:  0.0122 pval:  5.140344638860021e-06 ['cloudy' 'sprinkler'] ['wet']\n",
      "mi:  0.0008 pval:  0.4406439848783395 ['cloudy' 'wet'] ['sprinkler']\n",
      "gottem:  wet ['sprinkler', 'wet']\n",
      "mi:  0.0432 pval:  1.775133743547956e-19 ['sprinkler' 'rain'] ['cloudy']\n",
      "mi:  0.0312 pval:  2.8838183551079036e-14 ['sprinkler' 'rain'] ['wet']\n",
      "mi:  0.0246 pval:  1.9861400483000883e-11 ['sprinkler' 'cloudy'] ['rain']\n",
      "mi:  0.0122 pval:  5.140344638860569e-06 ['sprinkler' 'cloudy'] ['wet']\n",
      "mi:  0.0273 pval:  1.3969499695841537e-12 ['sprinkler' 'wet'] ['rain']\n",
      "mi:  0.0268 pval:  2.225500533364483e-12 ['sprinkler' 'wet'] ['cloudy']\n",
      "mi:  0.0411 pval:  5.577758506850097e-17 ['sprinkler' 'rain'] ['cloudy' 'wet']\n",
      "mi:  0.0221 pval:  5.351157949218822e-09 ['sprinkler' 'cloudy'] ['rain' 'wet']\n",
      "mi:  0.0248 pval:  4.214878075092313e-10 ['sprinkler' 'wet'] ['rain' 'cloudy']\n",
      "final undirected:  {'rain': ['sprinkler'], 'cloudy': ['sprinkler'], 'sprinkler': ['rain', 'cloudy', 'wet'], 'wet': ['sprinkler']}\n",
      "final directed:  {'rain': ['sprinkler'], 'cloudy': ['sprinkler'], 'sprinkler': ['cloudy'], 'wet': ['sprinkler']}\n"
     ]
    },
    {
     "data": {
      "image/png": "[encoded data removed]",
      "text/plain": [
       "<Figure size 432x288 with 1 Axes>"
      ]
     },
     "metadata": {
      "needs_background": "light"
     },
     "output_type": "display_data"
    }
   ],
   "source": [
    "obs2 = pd.read_csv(\"data/obs_v2.csv\")\n",
    "\n",
    "BN(pc_fresh(obs2, 1e-1)).show(node_size=500, node_color='gray')"
   ]
  },
  {
   "cell_type": "code",
   "execution_count": 21,
   "metadata": {},
   "outputs": [
    {
     "name": "stdout",
     "output_type": "stream",
     "text": [
      "initial graph:  {'B': ['A', 'T', 'C', 'S', 'R', 'W'], 'A': ['B', 'T', 'C', 'S', 'R', 'W'], 'T': ['B', 'A', 'C', 'S', 'R', 'W'], 'C': ['B', 'A', 'T', 'S', 'R', 'W'], 'S': ['B', 'A', 'T', 'C', 'R', 'W'], 'R': ['B', 'A', 'T', 'C', 'S', 'W'], 'W': ['B', 'A', 'T', 'C', 'S', 'R']}\n",
      "mi:  0.0203 pval:  1.8573906777049703e-10 ['B' 'A'] []\n",
      "mi:  0.0001 pval:  2.1826990010006004 ['B' 'T'] []\n",
      "gottem:  T ['A', 'T', 'C', 'S', 'R', 'W']\n",
      "mi:  0.0042 pval:  0.004202925419592509 ['B' 'S'] []\n",
      "mi:  0.0 pval:  3.3527766118003544 ['B' 'R'] []\n",
      "gottem:  R ['A', 'C', 'S', 'R', 'W']\n",
      "mi:  0.0203 pval:  1.8573906777049703e-10 ['A' 'B'] []\n",
      "mi:  0.0005 pval:  0.4554260824202677 ['A' 'T'] []\n",
      "gottem:  T ['B', 'T', 'C', 'S', 'R', 'W']\n",
      "mi:  0.0048 pval:  0.002052725009962533 ['A' 'S'] []\n",
      "mi:  0.0014 pval:  0.11683464838512074 ['A' 'R'] []\n",
      "gottem:  R ['B', 'C', 'S', 'R', 'W']\n",
      "mi:  0.0003 pval:  0.8011227519254273 ['T' 'C'] []\n",
      "gottem:  C ['C', 'S', 'R', 'W']\n",
      "mi:  0.1147 pval:  7.999005114695349e-52 ['T' 'R'] []\n",
      "mi:  0.0061 pval:  0.0005308990536548767 ['T' 'W'] []\n",
      "mi:  0.0056 pval:  0.0008458614047183062 ['C' 'B'] []\n",
      "mi:  0.0287 pval:  3.606539448872251e-14 ['C' 'A'] []\n",
      "mi:  0.0596 pval:  9.582532284541736e-28 ['C' 'S'] []\n",
      "mi:  0.0296 pval:  1.3808459649250364e-14 ['C' 'R'] []\n",
      "mi:  0.0283 pval:  5.4910751785127315e-14 ['C' 'W'] []\n",
      "mi:  0.0042 pval:  0.0042029254195935315 ['S' 'B'] []\n",
      "mi:  0.0048 pval:  0.002052725009962533 ['S' 'A'] []\n",
      "mi:  0.0005 pval:  0.44747653746867366 ['S' 'T'] []\n",
      "gottem:  T ['B', 'A', 'T', 'C', 'R', 'W']\n",
      "mi:  0.0082 pval:  5.5805248293635454e-05 ['S' 'R'] []\n",
      "mi:  0.1158 pval:  2.5810049885476373e-52 ['S' 'W'] []\n",
      "mi:  0.1147 pval:  7.999005114695349e-52 ['R' 'T'] []\n",
      "mi:  0.0296 pval:  1.3808459649250364e-14 ['R' 'C'] []\n",
      "mi:  0.0082 pval:  5.5805248293635454e-05 ['R' 'S'] []\n",
      "mi:  0.0408 pval:  1.65589255053681e-19 ['R' 'W'] []\n",
      "mi:  0.0 pval:  4.223750054319661 ['W' 'B'] []\n",
      "gottem:  B ['B', 'A', 'T', 'C', 'S', 'R']\n",
      "mi:  0.0061 pval:  0.0005308990536548767 ['W' 'T'] []\n",
      "mi:  0.0283 pval:  5.4910751785127315e-14 ['W' 'C'] []\n",
      "mi:  0.1158 pval:  2.5810049885476373e-52 ['W' 'S'] []\n",
      "mi:  0.0408 pval:  1.65589255053681e-19 ['W' 'R'] []\n",
      "mi:  0.0181 pval:  1.3607632401600383e-08 ['B' 'A'] ['C']\n",
      "mi:  0.0191 pval:  5.026470350951765e-09 ['B' 'A'] ['S']\n",
      "mi:  0.0034 pval:  0.03263559153052852 ['B' 'C'] ['A']\n",
      "mi:  0.0035 pval:  0.028748610702524154 ['B' 'C'] ['S']\n",
      "mi:  0.003 pval:  0.05160070785636947 ['B' 'S'] ['A']\n",
      "gottem:  S ['A', 'C', 'S']\n",
      "mi:  0.0021 pval:  0.12305536618842579 ['B' 'S'] ['C']\n",
      "gottem:  S ['A', 'C']\n",
      "mi:  0.0181 pval:  1.360763240160106e-08 ['A' 'B'] ['C']\n",
      "mi:  0.0191 pval:  5.026470350952033e-09 ['A' 'B'] ['S']\n",
      "mi:  0.021 pval:  7.786165936633099e-10 ['A' 'B'] ['W']\n",
      "mi:  0.0265 pval:  3.1396405203944208e-12 ['A' 'C'] ['B']\n",
      "mi:  0.0253 pval:  1.0595583756437151e-11 ['A' 'C'] ['S']\n",
      "mi:  0.0281 pval:  6.296257343851686e-13 ['A' 'C'] ['W']\n",
      "mi:  0.0036 pval:  0.0270747746813875 ['A' 'S'] ['B']\n",
      "mi:  0.0014 pval:  0.24735977690804647 ['A' 'S'] ['C']\n",
      "gottem:  S ['B', 'C', 'S', 'W']\n",
      "mi:  0.0041 pval:  0.01584633080854695 ['A' 'S'] ['W']\n",
      "mi:  0.109 pval:  4.7913698017052785e-48 ['T' 'R'] ['W']\n",
      "mi:  0.0003 pval:  0.731347516028543 ['T' 'W'] ['R']\n",
      "gottem:  W ['R', 'W']\n",
      "mi:  0.0034 pval:  0.03263559153052852 ['C' 'B'] ['A']\n",
      "mi:  0.0035 pval:  0.028748610702524154 ['C' 'B'] ['S']\n",
      "mi:  0.006 pval:  0.002588660819156354 ['C' 'B'] ['R']\n",
      "mi:  0.0058 pval:  0.0029164890271160425 ['C' 'B'] ['W']\n",
      "mi:  0.0265 pval:  3.1396405203944208e-12 ['C' 'A'] ['B']\n",
      "mi:  0.0253 pval:  1.0595583756436586e-11 ['C' 'A'] ['S']\n",
      "mi:  0.0276 pval:  1.02013454328077e-12 ['C' 'A'] ['R']\n",
      "mi:  0.0281 pval:  6.296257343851686e-13 ['C' 'A'] ['W']\n",
      "mi:  0.0575 pval:  1.0588734370490115e-25 ['C' 'S'] ['B']\n",
      "mi:  0.0562 pval:  4.056612689073566e-25 ['C' 'S'] ['A']\n",
      "mi:  0.0531 pval:  8.293327110586098e-24 ['C' 'S'] ['R']\n",
      "mi:  0.0364 pval:  1.5122881016313218e-16 ['C' 'S'] ['W']\n",
      "mi:  0.03 pval:  9.690453798521228e-14 ['C' 'R'] ['B']\n",
      "mi:  0.0286 pval:  3.969519360403924e-13 ['C' 'R'] ['A']\n",
      "mi:  0.0232 pval:  8.428894625448982e-11 ['C' 'R'] ['S']\n",
      "mi:  0.0179 pval:  1.7188456867043093e-08 ['C' 'R'] ['W']\n",
      "mi:  0.0285 pval:  4.2409912212065843e-13 ['C' 'W'] ['B']\n",
      "mi:  0.0277 pval:  9.517020352131552e-13 ['C' 'W'] ['A']\n",
      "mi:  0.0051 pval:  0.00597055070096391 ['C' 'W'] ['S']\n",
      "mi:  0.0165 pval:  6.676901107784668e-08 ['C' 'W'] ['R']\n",
      "mi:  0.0531 pval:  8.293327110586098e-24 ['S' 'C'] ['R']\n",
      "mi:  0.0364 pval:  1.5122881016313218e-16 ['S' 'C'] ['W']\n",
      "mi:  0.0017 pval:  0.17883443560318454 ['S' 'R'] ['C']\n",
      "gottem:  R ['C', 'R', 'W']\n",
      "mi:  0.025 pval:  1.3663956027230032e-11 ['S' 'R'] ['W']\n",
      "mi:  0.1485 pval:  3.332779083454323e-65 ['R' 'T'] ['C']\n",
      "mi:  0.109 pval:  4.7913698017052785e-48 ['R' 'T'] ['W']\n",
      "mi:  0.0634 pval:  2.9248170186965124e-28 ['R' 'C'] ['T']\n",
      "mi:  0.0179 pval:  1.7188456867043824e-08 ['R' 'C'] ['W']\n",
      "mi:  0.0351 pval:  5.916670793672625e-16 ['R' 'W'] ['T']\n",
      "mi:  0.0291 pval:  2.4185912572690323e-13 ['R' 'W'] ['C']\n",
      "mi:  0.0002 pval:  0.8516845100440559 ['W' 'A'] ['C']\n",
      "gottem:  A ['A', 'C', 'S', 'R']\n",
      "mi:  0.0001 pval:  0.9181650745085453 ['W' 'A'] ['S']\n",
      "gottem:  A ['C', 'S', 'R']\n",
      "mi:  0.0005 pval:  0.6027050641857556 ['W' 'A'] ['R']\n",
      "gottem:  A ['C', 'S', 'R']\n",
      "mi:  0.0927 pval:  5.678827992665984e-41 ['W' 'S'] ['C']\n",
      "mi:  0.1327 pval:  2.3794588828395996e-58 ['W' 'S'] ['R']\n",
      "mi:  0.0291 pval:  2.4185912572690323e-13 ['W' 'R'] ['C']\n",
      "mi:  0.0577 pval:  9.061944961767676e-26 ['W' 'R'] ['S']\n",
      "mi:  0.0034 pval:  0.11076076786264567 ['C' 'B'] ['A' 'S']\n",
      "gottem:  B ['B', 'A', 'S', 'R', 'W']\n",
      "mi:  0.0041 pval:  0.06799335814762567 ['C' 'B'] ['A' 'R']\n",
      "gottem:  B ['A', 'S', 'R', 'W']\n",
      "mi:  0.0045 pval:  0.04907718953545527 ['C' 'B'] ['A' 'W']\n",
      "mi:  0.0044 pval:  0.05501957145802791 ['C' 'B'] ['S' 'R']\n",
      "gottem:  B ['A', 'S', 'R', 'W']\n",
      "mi:  0.0051 pval:  0.03000208439465707 ['C' 'B'] ['S' 'W']\n",
      "mi:  0.0063 pval:  0.011567080846255677 ['C' 'B'] ['R' 'W']\n",
      "mi:  0.0533 pval:  3.740534645441283e-22 ['C' 'S'] ['A' 'R']\n",
      "mi:  0.0351 pval:  1.9261136486191374e-14 ['C' 'S'] ['A' 'W']\n",
      "mi:  0.0379 pval:  1.3298508099661484e-15 ['C' 'S'] ['R' 'W']\n",
      "mi:  0.0257 pval:  1.7647288255834155e-10 ['C' 'R'] ['A' 'S']\n",
      "mi:  0.0181 pval:  2.4206257476495387e-07 ['C' 'R'] ['A' 'W']\n",
      "mi:  0.0193 pval:  7.715225712371444e-08 ['C' 'R'] ['S' 'W']\n",
      "mi:  0.0067 pval:  0.008559499038378259 ['C' 'W'] ['A' 'S']\n",
      "mi:  0.0173 pval:  5.52362480187093e-07 ['C' 'W'] ['A' 'R']\n",
      "mi:  0.0013 pval:  0.3571231555579477 ['C' 'W'] ['S' 'R']\n",
      "gottem:  W ['A', 'S', 'R', 'W']\n",
      "mi:  0.1405 pval:  1.3128284692124818e-59 ['R' 'T'] ['C' 'W']\n",
      "mi:  0.0494 pval:  1.657195574955586e-20 ['R' 'C'] ['T' 'W']\n",
      "mi:  0.0211 pval:  1.4313175584269598e-08 ['R' 'W'] ['T' 'C']\n",
      "final undirected:  {'B': ['A'], 'A': ['B', 'C'], 'T': ['R'], 'C': ['A', 'S', 'R'], 'S': ['C', 'W'], 'R': ['T', 'C', 'W'], 'W': ['S', 'R']}\n",
      "final directed:  {'B': ['A'], 'A': [], 'T': ['R'], 'C': ['A', 'S', 'R'], 'S': ['C', 'W'], 'R': ['T', 'C', 'W'], 'W': []}\n"
     ]
    },
    {
     "data": {
      "image/png": "[encoded data removed]",
      "text/plain": [
       "<Figure size 432x288 with 1 Axes>"
      ]
     },
     "metadata": {
      "needs_background": "light"
     },
     "output_type": "display_data"
    }
   ],
   "source": [
    "obs3 = pd.read_csv(\"data/obs_v3.csv\")\n",
    "\n",
    "BN(pc_fresh(obs3, 0.05)).show(node_size=500, node_color='gray')"
   ]
  },
  {
   "cell_type": "markdown",
   "metadata": {},
   "source": [
    "## Scratch"
   ]
  },
  {
   "cell_type": "code",
   "execution_count": 22,
   "metadata": {},
   "outputs": [
    {
     "data": {
      "text/plain": [
       "0.019210104042050195"
      ]
     },
     "execution_count": 22,
     "metadata": {},
     "output_type": "execute_result"
    },
    {
     "data": {
      "text/plain": [
       "5.84545098042687e-10"
      ]
     },
     "execution_count": 22,
     "metadata": {},
     "output_type": "execute_result"
    },
    {
     "data": {
      "text/plain": [
       "(0.019210104042050195, 5.84545098042687e-10)"
      ]
     },
     "execution_count": 22,
     "metadata": {},
     "output_type": "execute_result"
    }
   ],
   "source": [
    "testdata = obs1[['cloudy','wet']].values.astype(int)\n",
    "\n",
    "eps = 1e-10\n",
    "bins = [2,2]\n",
    "hist, edges = np.histogramdd(testdata, bins=bins)\n",
    "\n",
    "Pxyzz = hist / testdata.shape[0] #P(X,Y,Z)\n",
    "Pzz = np.sum(Pxyzz, axis = (0,1)) # P(Z)\n",
    "Pxzz = np.sum(Pxyzz, axis = 1) # P(X,Z)\n",
    "Pyzz = np.sum(Pxyzz, axis = 0) # P(Y,Z)    \n",
    "\n",
    "lognum = np.empty((Pxyzz.shape)) # P(Z)P(X,Y,Z)\n",
    "logden = np.empty((Pxyzz.shape)) # P(X,Z)P(Y,Z)\n",
    "for i in range(bins[0]):\n",
    "    for j in range(bins[1]):\n",
    "            lognum[i][j] = Pzz*Pxyzz[i][j]\n",
    "            logden[i][j] = Pxzz[i]*Pyzz[j]\n",
    "\n",
    "cmi = np.sum(Pxyzz * np.log((lognum + eps) / (logden + eps) ) )\n",
    "\n",
    "chi2 = 2*len(testdata)*cmi\n",
    "df = (2 - 1) * (2 - 1)\n",
    "\n",
    "cmi\n",
    "2*stats.chi2.pdf(chi2, df)\n",
    "\n",
    "mutual_info(testdata, [2,2])"
   ]
  },
  {
   "cell_type": "code",
   "execution_count": 23,
   "metadata": {},
   "outputs": [
    {
     "data": {
      "text/plain": [
       "0.024359918668268983"
      ]
     },
     "execution_count": 23,
     "metadata": {},
     "output_type": "execute_result"
    },
    {
     "data": {
      "text/plain": [
       "2.6340362212902817e-11"
      ]
     },
     "execution_count": 23,
     "metadata": {},
     "output_type": "execute_result"
    },
    {
     "data": {
      "text/plain": [
       "(0.024359918668268983, 2.6340362212902817e-11)"
      ]
     },
     "execution_count": 23,
     "metadata": {},
     "output_type": "execute_result"
    }
   ],
   "source": [
    "testdata = np.concatenate((obs1[['cloudy','wet']],obs1[['rain']]),axis=1).astype(int)\n",
    "\n",
    "eps = 1e-10\n",
    "bins = [2,2,2]\n",
    "hist, edges = np.histogramdd(testdata, bins=bins)\n",
    "\n",
    "Pxyzz = hist / testdata.shape[0] #P(X,Y,Z)\n",
    "Pzz = np.sum(Pxyzz, axis = (0,1)) # P(Z)\n",
    "Pxzz = np.sum(Pxyzz, axis = 1) # P(X,Z)\n",
    "Pyzz = np.sum(Pxyzz, axis = 0) # P(Y,Z)    \n",
    "\n",
    "lognum = np.empty((Pxyzz.shape)) # P(Z)P(X,Y,Z)\n",
    "logden = np.empty((Pxyzz.shape)) # P(X,Z)P(Y,Z)\n",
    "for i in range(bins[0]):\n",
    "    for j in range(bins[1]):\n",
    "        for k in range(bins[2]):\n",
    "            lognum[i][j][k] = Pzz[k]*Pxyzz[i][j][k]\n",
    "            logden[i][j][k] = Pxzz[i][k]*Pyzz[j][k]\n",
    "\n",
    "cmi = np.sum(Pxyzz * np.log((lognum + eps) / (logden + eps) ) )\n",
    "\n",
    "chi2 = 2*len(testdata)*cmi\n",
    "df = (2 - 1) * (2 - 1) * 2\n",
    "\n",
    "cmi\n",
    "2*stats.chi2.pdf(chi2, df)\n",
    "\n",
    "mutual_info(testdata, [2,2,2])"
   ]
  },
  {
   "cell_type": "code",
   "execution_count": 24,
   "metadata": {},
   "outputs": [
    {
     "data": {
      "text/plain": [
       "0.0015016159566173725"
      ]
     },
     "execution_count": 24,
     "metadata": {},
     "output_type": "execute_result"
    },
    {
     "data": {
      "text/plain": [
       "0.3345148104626348"
      ]
     },
     "execution_count": 24,
     "metadata": {},
     "output_type": "execute_result"
    },
    {
     "data": {
      "text/plain": [
       "(0.0015016159566173725, 0.3345148104626348)"
      ]
     },
     "execution_count": 24,
     "metadata": {},
     "output_type": "execute_result"
    }
   ],
   "source": [
    "testdata = np.concatenate((obs1[['cloudy','wet']],obs1[['rain','sprinkler']]),axis=1).astype(int)\n",
    "\n",
    "eps = 1e-10\n",
    "bins = [2,2,2,2]\n",
    "hist, edges = np.histogramdd(testdata, bins=bins)\n",
    "\n",
    "Pxyzz = hist / testdata.shape[0] #P(X,Y,ZZ)\n",
    "Pzz = np.sum(Pxyzz, axis = (0,1)) # P(Z)\n",
    "Pxzz = np.sum(Pxyzz, axis = 1) # P(X,Z)\n",
    "Pyzz = np.sum(Pxyzz, axis = 0) # P(Y,Z)    \n",
    "\n",
    "lognum = np.empty((Pxyzz.shape)) # P(Z)P(X,Y,Z)\n",
    "logden = np.empty((Pxyzz.shape)) # P(X,Z)P(Y,Z)\n",
    "for i in range(bins[0]):\n",
    "    for j in range(bins[1]):\n",
    "        for k in range(bins[2]):\n",
    "            for l in range(bins[3]):\n",
    "                lognum[i][j][k][l] = Pxyzz[i][j][k][l]*Pzz[k][l]\n",
    "                logden[i][j][k][l] = Pxzz[i][k][l]*Pyzz[j][k][l]\n",
    "                \n",
    "#                 lognum[i][j][:] = Pxyzz[i][j][k][l]*Pzz[:]\n",
    "#                 logden[i][j][:] = Pxzz[i][k][l]*Pyzz[j][:]\n",
    "\n",
    "cmi = np.sum(Pxyzz * np.log((lognum + eps) / (logden + eps) ) )\n",
    "\n",
    "chi2 = 2*len(testdata)*cmi\n",
    "df = (2 - 1) * (2 - 1) * 2*2\n",
    "\n",
    "cmi\n",
    "2*stats.chi2.pdf(chi2, df)\n",
    "\n",
    "mutual_info(testdata, [2,2,2,2])"
   ]
  },
  {
   "cell_type": "code",
   "execution_count": null,
   "metadata": {},
   "outputs": [],
   "source": []
  }
 ],
 "metadata": {
  "kernelspec": {
   "display_name": "Python 3",
   "language": "python",
   "name": "python3"
  },
  "language_info": {
   "codemirror_mode": {
    "name": "ipython",
    "version": 3
   },
   "file_extension": ".py",
   "mimetype": "text/x-python",
   "name": "python",
   "nbconvert_exporter": "python",
   "pygments_lexer": "ipython3",
   "version": "3.6.7"
  }
 },
 "nbformat": 4,
 "nbformat_minor": 2
}
