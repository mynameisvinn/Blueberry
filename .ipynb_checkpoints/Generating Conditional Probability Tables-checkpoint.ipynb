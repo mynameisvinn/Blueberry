{
 "cells": [
  {
   "cell_type": "code",
   "execution_count": 2,
   "metadata": {
    "collapsed": true
   },
   "outputs": [],
   "source": [
    "import pandas as pd\n",
    "import numpy as np\n",
    "\n",
    "def is_cloudy():\n",
    "    \"\"\"cloudy is an independent random variable.\n",
    "    \"\"\"\n",
    "    return (np.random.random() < .5)\n",
    "    \n",
    "def is_sprinkler(cloudy):\n",
    "    \"\"\"sprinkler is dependent on cloudiness. if it is \n",
    "    cloudy, sprinkler has a 10% of being on. otherwise, \n",
    "    if it is sunny, then the sprinkler has a 50% of being \n",
    "    on.\n",
    "    \"\"\"\n",
    "    if cloudy:\n",
    "        return (np.random.random() < .1)\n",
    "    else:\n",
    "        return (np.random.random() < .5)\n",
    "\n",
    "def is_rain(cloudy):\n",
    "    if cloudy:\n",
    "        return (np.random.random() < .8)\n",
    "    else:\n",
    "        return (np.random.random() < .2)\n",
    "    \n",
    "def is_wet(sprinkler, rain):\n",
    "    if ((sprinkler == True) & (rain == True)):\n",
    "        return (np.random.random() < .99)\n",
    "    elif ((sprinkler == False) & (rain == True)):\n",
    "        return (np.random.random() < .9)\n",
    "    elif ((sprinkler == True) & (rain == False)):\n",
    "        return (np.random.random() < .9)\n",
    "    else:\n",
    "        return False"
   ]
  },
  {
   "cell_type": "code",
   "execution_count": 71,
   "metadata": {
    "collapsed": true
   },
   "outputs": [],
   "source": [
    "# generate toy dataset via sampling (we couldve done this by multiplying probabilities)\n",
    "\n",
    "n_samples = 10000\n",
    "\n",
    "ls_c = []\n",
    "ls_s = []\n",
    "ls_r = []\n",
    "ls_w = []\n",
    "\n",
    "for _ in range(n_samples):\n",
    "    c = is_cloudy()\n",
    "    s = is_sprinkler(c)\n",
    "    r = is_rain(c)\n",
    "    w = is_wet(s, r)\n",
    "    \n",
    "    ls_c.append(c)\n",
    "    ls_s.append(s)\n",
    "    ls_r.append(r)\n",
    "    ls_w.append(w)\n",
    "\n",
    "collection = {\"cloudy\": ls_c, \"sprinkler\": ls_s, \"rain\": ls_r, \"wet\": ls_w}"
   ]
  },
  {
   "cell_type": "code",
   "execution_count": 72,
   "metadata": {},
   "outputs": [
    {
     "data": {
      "text/html": [
       "<div>\n",
       "<style>\n",
       "    .dataframe thead tr:only-child th {\n",
       "        text-align: right;\n",
       "    }\n",
       "\n",
       "    .dataframe thead th {\n",
       "        text-align: left;\n",
       "    }\n",
       "\n",
       "    .dataframe tbody tr th {\n",
       "        vertical-align: top;\n",
       "    }\n",
       "</style>\n",
       "<table border=\"1\" class=\"dataframe\">\n",
       "  <thead>\n",
       "    <tr style=\"text-align: right;\">\n",
       "      <th></th>\n",
       "      <th>cloudy</th>\n",
       "      <th>rain</th>\n",
       "      <th>sprinkler</th>\n",
       "      <th>wet</th>\n",
       "    </tr>\n",
       "  </thead>\n",
       "  <tbody>\n",
       "    <tr>\n",
       "      <th>0</th>\n",
       "      <td>True</td>\n",
       "      <td>True</td>\n",
       "      <td>False</td>\n",
       "      <td>True</td>\n",
       "    </tr>\n",
       "    <tr>\n",
       "      <th>1</th>\n",
       "      <td>False</td>\n",
       "      <td>False</td>\n",
       "      <td>True</td>\n",
       "      <td>True</td>\n",
       "    </tr>\n",
       "    <tr>\n",
       "      <th>2</th>\n",
       "      <td>False</td>\n",
       "      <td>False</td>\n",
       "      <td>True</td>\n",
       "      <td>True</td>\n",
       "    </tr>\n",
       "    <tr>\n",
       "      <th>3</th>\n",
       "      <td>False</td>\n",
       "      <td>False</td>\n",
       "      <td>True</td>\n",
       "      <td>False</td>\n",
       "    </tr>\n",
       "    <tr>\n",
       "      <th>4</th>\n",
       "      <td>True</td>\n",
       "      <td>True</td>\n",
       "      <td>False</td>\n",
       "      <td>True</td>\n",
       "    </tr>\n",
       "  </tbody>\n",
       "</table>\n",
       "</div>"
      ],
      "text/plain": [
       "   cloudy   rain  sprinkler    wet\n",
       "0    True   True      False   True\n",
       "1   False  False       True   True\n",
       "2   False  False       True   True\n",
       "3   False  False       True  False\n",
       "4    True   True      False   True"
      ]
     },
     "execution_count": 72,
     "metadata": {},
     "output_type": "execute_result"
    }
   ],
   "source": [
    "# joint observations\n",
    "df = pd.DataFrame(collection)\n",
    "df.head()"
   ]
  },
  {
   "cell_type": "code",
   "execution_count": 120,
   "metadata": {
    "collapsed": true
   },
   "outputs": [],
   "source": [
    "parent = ['cloudy']\n",
    "child = 'sprinkler'"
   ]
  },
  {
   "cell_type": "code",
   "execution_count": 121,
   "metadata": {
    "collapsed": true
   },
   "outputs": [],
   "source": [
    "ps = [df[x] for x in parent]\n",
    "cs = df[child]"
   ]
  },
  {
   "cell_type": "code",
   "execution_count": 122,
   "metadata": {},
   "outputs": [
    {
     "data": {
      "text/html": [
       "<div>\n",
       "<style>\n",
       "    .dataframe thead tr:only-child th {\n",
       "        text-align: right;\n",
       "    }\n",
       "\n",
       "    .dataframe thead th {\n",
       "        text-align: left;\n",
       "    }\n",
       "\n",
       "    .dataframe tbody tr th {\n",
       "        vertical-align: top;\n",
       "    }\n",
       "</style>\n",
       "<table border=\"1\" class=\"dataframe\">\n",
       "  <thead>\n",
       "    <tr style=\"text-align: right;\">\n",
       "      <th>sprinkler</th>\n",
       "      <th>cloudy</th>\n",
       "      <th>False</th>\n",
       "      <th>True</th>\n",
       "    </tr>\n",
       "  </thead>\n",
       "  <tbody>\n",
       "    <tr>\n",
       "      <th>0</th>\n",
       "      <td>False</td>\n",
       "      <td>0.500100</td>\n",
       "      <td>0.499900</td>\n",
       "    </tr>\n",
       "    <tr>\n",
       "      <th>1</th>\n",
       "      <td>True</td>\n",
       "      <td>0.893869</td>\n",
       "      <td>0.106131</td>\n",
       "    </tr>\n",
       "  </tbody>\n",
       "</table>\n",
       "</div>"
      ],
      "text/plain": [
       "sprinkler  cloudy     False      True\n",
       "0           False  0.500100  0.499900\n",
       "1            True  0.893869  0.106131"
      ]
     },
     "execution_count": 122,
     "metadata": {},
     "output_type": "execute_result"
    }
   ],
   "source": [
    "# https://stackoverflow.com/questions/53510319/python-pandas-merging-with-more-than-one-level-overlap-on-a-multi-index-is-not\n",
    "pd.crosstab(ps, cs, normalize = 'index').reset_index()"
   ]
  },
  {
   "cell_type": "code",
   "execution_count": 123,
   "metadata": {
    "collapsed": true
   },
   "outputs": [],
   "source": [
    "class Node(object):\n",
    "    \n",
    "    def __init__(self, name, ls_parents):\n",
    "        self.name = name\n",
    "        self.ls_parents = ls_parents\n",
    "        pass    "
   ]
  },
  {
   "cell_type": "code",
   "execution_count": 124,
   "metadata": {
    "collapsed": true
   },
   "outputs": [],
   "source": [
    "class BN(object):\n",
    "    \n",
    "    def __init__(self, ls_nodes, observations):\n",
    "        self.ls_nodes = ls_nodes\n",
    "        self.observations = observations\n",
    "        \n",
    "        # create dict of nodes for fast lookup\n",
    "        self.dict_nodes = self._generate_dict_nodes(ls_nodes)\n",
    "        \n",
    "    def _generate_dict_nodes(self, ls_nodes):\n",
    "        d = {}\n",
    "        for node in ls_nodes:\n",
    "            d[node.name] = node\n",
    "        return d\n",
    "    \n",
    "    def generate_cpt(self, name):\n",
    "        \n",
    "        # first, fetch node\n",
    "        node = self.dict_nodes[name]\n",
    "        \n",
    "        # then find its parents\n",
    "        parent = node.ls_parents\n",
    "        \n",
    "        # subset its corresponding marginals\n",
    "        ps = [self.observations[x.name] for x in parent]\n",
    "        cs = self.observations[node.name]\n",
    "        \n",
    "        # finally, crosstab\n",
    "        return pd.crosstab(ps, cs, normalize = 'index').reset_index()"
   ]
  },
  {
   "cell_type": "code",
   "execution_count": 125,
   "metadata": {
    "collapsed": true
   },
   "outputs": [],
   "source": [
    "C = Node(\"cloudy\", None)\n",
    "R = Node(\"rain\", [C])\n",
    "S = Node(\"sprinkler\", [C])\n",
    "W = Node(\"wet\", [R, S])"
   ]
  },
  {
   "cell_type": "code",
   "execution_count": 126,
   "metadata": {
    "collapsed": true
   },
   "outputs": [],
   "source": [
    "ls_n = [C, R, S, W]"
   ]
  },
  {
   "cell_type": "code",
   "execution_count": 9,
   "metadata": {},
   "outputs": [
    {
     "data": {
      "text/plain": [
       "Index(['cloudy', 'rain', 'sprinkler', 'wet'], dtype='object')"
      ]
     },
     "execution_count": 9,
     "metadata": {},
     "output_type": "execute_result"
    }
   ],
   "source": [
    "joint_observations = pd.read_csv(\"observations.csv\").drop(\"Unnamed: 0\", axis=1)\n",
    "joint_observations.columns"
   ]
  },
  {
   "cell_type": "code",
   "execution_count": 127,
   "metadata": {
    "collapsed": true
   },
   "outputs": [],
   "source": [
    "bayes_network = BN(ls_n, df)"
   ]
  },
  {
   "cell_type": "code",
   "execution_count": 131,
   "metadata": {
    "collapsed": true
   },
   "outputs": [],
   "source": [
    "h = bayes_network.generate_cpt(\"wet\")"
   ]
  },
  {
   "cell_type": "code",
   "execution_count": 134,
   "metadata": {},
   "outputs": [
    {
     "data": {
      "text/plain": [
       "Index(['rain', 'sprinkler', False, True], dtype='object', name='wet')"
      ]
     },
     "execution_count": 134,
     "metadata": {},
     "output_type": "execute_result"
    }
   ],
   "source": [
    "h.columns"
   ]
  },
  {
   "cell_type": "code",
   "execution_count": 135,
   "metadata": {},
   "outputs": [
    {
     "data": {
      "text/html": [
       "<div>\n",
       "<style>\n",
       "    .dataframe thead tr:only-child th {\n",
       "        text-align: right;\n",
       "    }\n",
       "\n",
       "    .dataframe thead th {\n",
       "        text-align: left;\n",
       "    }\n",
       "\n",
       "    .dataframe tbody tr th {\n",
       "        vertical-align: top;\n",
       "    }\n",
       "</style>\n",
       "<table border=\"1\" class=\"dataframe\">\n",
       "  <thead>\n",
       "    <tr style=\"text-align: right;\">\n",
       "      <th>wet</th>\n",
       "      <th>rain</th>\n",
       "      <th>sprinkler</th>\n",
       "      <th>False</th>\n",
       "      <th>True</th>\n",
       "    </tr>\n",
       "  </thead>\n",
       "  <tbody>\n",
       "    <tr>\n",
       "      <th>0</th>\n",
       "      <td>False</td>\n",
       "      <td>False</td>\n",
       "      <td>1.000000</td>\n",
       "      <td>0.000000</td>\n",
       "    </tr>\n",
       "    <tr>\n",
       "      <th>1</th>\n",
       "      <td>False</td>\n",
       "      <td>True</td>\n",
       "      <td>0.101908</td>\n",
       "      <td>0.898092</td>\n",
       "    </tr>\n",
       "    <tr>\n",
       "      <th>2</th>\n",
       "      <td>True</td>\n",
       "      <td>False</td>\n",
       "      <td>0.097028</td>\n",
       "      <td>0.902972</td>\n",
       "    </tr>\n",
       "    <tr>\n",
       "      <th>3</th>\n",
       "      <td>True</td>\n",
       "      <td>True</td>\n",
       "      <td>0.012346</td>\n",
       "      <td>0.987654</td>\n",
       "    </tr>\n",
       "  </tbody>\n",
       "</table>\n",
       "</div>"
      ],
      "text/plain": [
       "wet   rain  sprinkler     False      True\n",
       "0    False      False  1.000000  0.000000\n",
       "1    False       True  0.101908  0.898092\n",
       "2     True      False  0.097028  0.902972\n",
       "3     True       True  0.012346  0.987654"
      ]
     },
     "execution_count": 135,
     "metadata": {},
     "output_type": "execute_result"
    }
   ],
   "source": [
    "h.head()"
   ]
  },
  {
   "cell_type": "code",
   "execution_count": null,
   "metadata": {
    "collapsed": true
   },
   "outputs": [],
   "source": []
  }
 ],
 "metadata": {
  "kernelspec": {
   "display_name": "Python 3",
   "language": "python",
   "name": "python3"
  },
  "language_info": {
   "codemirror_mode": {
    "name": "ipython",
    "version": 3
   },
   "file_extension": ".py",
   "mimetype": "text/x-python",
   "name": "python",
   "nbconvert_exporter": "python",
   "pygments_lexer": "ipython3",
   "version": "3.6.8"
  }
 },
 "nbformat": 4,
 "nbformat_minor": 2
}
