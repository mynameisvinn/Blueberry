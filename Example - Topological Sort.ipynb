{
 "cells": [
  {
   "cell_type": "markdown",
   "metadata": {},
   "source": [
    "# topological sort\n",
    "when given a node, a topological sort computes the order of execution of its parent nodes. for  example, if we have a causal model of A->B->C, then the precise order of execution is [A,B,C]. "
   ]
  },
  {
   "cell_type": "code",
   "execution_count": null,
   "metadata": {},
   "outputs": [],
   "source": [
    "from basilisk import Node, BN"
   ]
  },
  {
   "cell_type": "code",
   "execution_count": null,
   "metadata": {},
   "outputs": [],
   "source": [
    "# define nodes/edges for a somewhat complicated network\n",
    "\n",
    "B = Node(\"B\")\n",
    "A = Node(\"A\", [B])\n",
    "C = Node(\"cloudy\", [A])\n",
    "T = Node(\"T\")\n",
    "R = Node(\"rain\", [C, T])  # each node knows its parent\n",
    "S = Node(\"sprinkler\", [C])\n",
    "W = Node(\"wet\", [R, S])\n",
    "\n",
    "ls_n = [B, A, C, T, R, W, S]\n",
    "model = BN(ls_n)\n",
    "model.show(node_size=500, node_color='gray')"
   ]
  },
  {
   "cell_type": "code",
   "execution_count": null,
   "metadata": {},
   "outputs": [],
   "source": [
    "topological_list = model.topological_sort(W)\n",
    "\n",
    "for node in topological_list:\n",
    "    print(node.name)  # order of execution"
   ]
  },
  {
   "cell_type": "code",
   "execution_count": null,
   "metadata": {},
   "outputs": [],
   "source": []
  }
 ],
 "metadata": {
  "kernelspec": {
   "display_name": "Python 3",
   "language": "python",
   "name": "python3"
  },
  "language_info": {
   "codemirror_mode": {
    "name": "ipython",
    "version": 3
   },
   "file_extension": ".py",
   "mimetype": "text/x-python",
   "name": "python",
   "nbconvert_exporter": "python",
   "pygments_lexer": "ipython3",
   "version": "3.7.3"
  }
 },
 "nbformat": 4,
 "nbformat_minor": 2
}
