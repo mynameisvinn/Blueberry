{
 "cells": [
  {
   "cell_type": "code",
   "execution_count": 1,
   "metadata": {},
   "outputs": [],
   "source": [
    "from basilisk import Node, BN"
   ]
  },
  {
   "cell_type": "code",
   "execution_count": 2,
   "metadata": {},
   "outputs": [
    {
     "data": {
      "image/png": "[encoded data removed]",
      "text/plain": [
       "<Figure size 432x288 with 1 Axes>"
      ]
     },
     "metadata": {
      "needs_background": "light"
     },
     "output_type": "display_data"
    }
   ],
   "source": [
    "# define nodes/edges for a somewhat complicated network\n",
    "\n",
    "B = Node(\"B\")\n",
    "A = Node(\"A\", [B])\n",
    "C = Node(\"cloudy\", [A])\n",
    "T = Node(\"T\")\n",
    "R = Node(\"rain\", [C, T])  # each node knows its parent\n",
    "S = Node(\"sprinkler\", [C])\n",
    "W = Node(\"wet\", [R, S])\n",
    "\n",
    "ls_n = [B, A, C, T, R, W, S]\n",
    "model = BN(ls_n)\n",
    "model.show(node_size=500, node_color='gray')"
   ]
  },
  {
   "cell_type": "code",
   "execution_count": 3,
   "metadata": {},
   "outputs": [
    {
     "name": "stdout",
     "output_type": "stream",
     "text": [
      "evaluating wet\n",
      "fifo:  ['sprinkler', 'rain']\n",
      "lifo ['wet', 'rain', 'sprinkler']\n",
      "----------------------------------------\n",
      "evaluating rain\n",
      "fifo:  ['T', 'cloudy', 'sprinkler']\n",
      "lifo ['wet', 'rain', 'sprinkler', 'cloudy', 'T']\n",
      "----------------------------------------\n",
      "evaluating sprinkler\n",
      "fifo:  ['T', 'cloudy']\n",
      "lifo ['wet', 'rain', 'sprinkler', 'cloudy', 'T']\n",
      "----------------------------------------\n",
      "evaluating cloudy\n",
      "fifo:  ['A', 'T']\n",
      "lifo ['wet', 'rain', 'sprinkler', 'cloudy', 'T', 'A']\n",
      "----------------------------------------\n",
      "evaluating T\n",
      "fifo:  ['A']\n",
      "lifo ['wet', 'rain', 'sprinkler', 'cloudy', 'T', 'A']\n",
      "----------------------------------------\n",
      "evaluating A\n",
      "fifo:  ['B']\n",
      "lifo ['wet', 'rain', 'sprinkler', 'cloudy', 'T', 'A', 'B']\n",
      "----------------------------------------\n",
      "evaluating B\n",
      "fifo:  []\n",
      "lifo ['wet', 'rain', 'sprinkler', 'cloudy', 'T', 'A', 'B']\n",
      "----------------------------------------\n"
     ]
    }
   ],
   "source": [
    "topological_sequence = model.sample(W)"
   ]
  },
  {
   "cell_type": "code",
   "execution_count": 5,
   "metadata": {},
   "outputs": [
    {
     "name": "stdout",
     "output_type": "stream",
     "text": [
      "wet\n",
      "rain\n",
      "sprinkler\n",
      "cloudy\n",
      "T\n",
      "A\n",
      "B\n"
     ]
    }
   ],
   "source": [
    "for node in topological_sequence:\n",
    "    print(node.name)"
   ]
  },
  {
   "cell_type": "code",
   "execution_count": null,
   "metadata": {},
   "outputs": [],
   "source": []
  }
 ],
 "metadata": {
  "kernelspec": {
   "display_name": "Python 3",
   "language": "python",
   "name": "python3"
  },
  "language_info": {
   "codemirror_mode": {
    "name": "ipython",
    "version": 3
   },
   "file_extension": ".py",
   "mimetype": "text/x-python",
   "name": "python",
   "nbconvert_exporter": "python",
   "pygments_lexer": "ipython3",
   "version": "3.7.3"
  }
 },
 "nbformat": 4,
 "nbformat_minor": 2
}
