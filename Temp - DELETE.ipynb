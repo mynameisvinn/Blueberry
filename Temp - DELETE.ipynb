{
 "cells": [
  {
   "cell_type": "code",
   "execution_count": 6,
   "metadata": {},
   "outputs": [
    {
     "name": "stdout",
     "output_type": "stream",
     "text": [
      "empty\n"
     ]
    }
   ],
   "source": [
    "a = [] \n",
    "\n",
    "if not a:\n",
    "    print(\"empty\")"
   ]
  },
  {
   "cell_type": "code",
   "execution_count": 7,
   "metadata": {},
   "outputs": [],
   "source": [
    "import pandas as pd\n",
    "\n",
    "class Node(object):\n",
    "    \"\"\"\n",
    "    each node object represents a discrete random variable.\n",
    "    \n",
    "    each node knows its parent(s) but does not know its children.\n",
    "    \"\"\"\n",
    "    \n",
    "    def __init__(self, name, ls_parents=[]):\n",
    "        self.name = name\n",
    "        self.ls_parents = ls_parents\n",
    "        \n",
    "    @property\n",
    "    def is_marginal(self):\n",
    "        \"\"\"a marginal node does not have any parents.\"\"\"\n",
    "        return not self.ls_parents\n",
    "\n",
    "class BN(object):\n",
    "    \n",
    "    def __init__(self, ls_nodes, observations):\n",
    "        self.ls_nodes = ls_nodes\n",
    "        self.observations = observations\n",
    "        self.dict_nodes = self._generate_dict_nodes(ls_nodes)  # create dict of nodes for fast lookup\n",
    "        \n",
    "    def _generate_dict_nodes(self, ls_nodes):\n",
    "        d = {}\n",
    "        for node in ls_nodes:\n",
    "            d[node.name] = node\n",
    "        return d\n",
    "    \n",
    "    def generate_cpt(self, name):        \n",
    "        # first, fetch node\n",
    "        node = self.dict_nodes[name]\n",
    "        \n",
    "        # then find its parents\n",
    "        parent = node.ls_parents\n",
    "        \n",
    "        # subset its corresponding marginals\n",
    "        ps = [self.observations[x.name] for x in parent]\n",
    "        cs = self.observations[node.name]\n",
    "        \n",
    "        # finally, crosstab\n",
    "        # # https://stackoverflow.com/questions/53510319/python-pandas-merging-with-more-than-one-level-overlap-on-a-multi-index-is-not\n",
    "        return pd.crosstab(ps, cs, normalize = 'index').reset_index()\n",
    "    \n",
    "    def fetch_ancestors(self, name):\n",
    "        "
   ]
  },
  {
   "cell_type": "code",
   "execution_count": 11,
   "metadata": {},
   "outputs": [],
   "source": [
    "# define nodes/edges\n",
    "\n",
    "C = Node(\"cloudy\")\n",
    "R = Node(\"rain\", [C])\n",
    "S = Node(\"sprinkler\", [C])\n",
    "W = Node(\"wet\", [R, S])\n",
    "\n",
    "ls_n = [C, R, S, W]"
   ]
  },
  {
   "cell_type": "code",
   "execution_count": null,
   "metadata": {},
   "outputs": [],
   "source": []
  }
 ],
 "metadata": {
  "kernelspec": {
   "display_name": "Python 3",
   "language": "python",
   "name": "python3"
  },
  "language_info": {
   "codemirror_mode": {
    "name": "ipython",
    "version": 3
   },
   "file_extension": ".py",
   "mimetype": "text/x-python",
   "name": "python",
   "nbconvert_exporter": "python",
   "pygments_lexer": "ipython3",
   "version": "3.7.3"
  }
 },
 "nbformat": 4,
 "nbformat_minor": 2
}
